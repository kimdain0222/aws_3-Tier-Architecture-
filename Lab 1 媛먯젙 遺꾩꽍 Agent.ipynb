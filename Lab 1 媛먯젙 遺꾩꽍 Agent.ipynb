{
 "cells": [
  {
   "cell_type": "markdown",
   "metadata": {},
   "source": [
    "- https://catalog.us-east-1.prod.workshops.aws/workshops/59ea75b5-532c-4b57-982e-e58152ae5c46/ko-KR/20-build-agent/21\n",
    "- https://github.com/netsgo0319/ecomm-review-agent/blob/main/lab01_review_sentiment_analyzer/sentiment_analyzer/agent.py"
   ]
  },
  {
   "cell_type": "code",
   "execution_count": 1,
   "metadata": {},
   "outputs": [
    {
     "name": "stdout",
     "output_type": "stream",
     "text": [
      "\u001b[31mERROR: pip's dependency resolver does not currently take into account all the packages that are installed. This behaviour is the source of the following dependency conflicts.\n",
      "autogluon-multimodal 1.4.0 requires nvidia-ml-py3<8.0,>=7.352.0, which is not installed.\n",
      "dash 2.18.1 requires dash-core-components==2.0.0, which is not installed.\n",
      "dash 2.18.1 requires dash-html-components==2.0.0, which is not installed.\n",
      "dash 2.18.1 requires dash-table==5.0.0, which is not installed.\n",
      "jupyter-ai 2.31.6 requires faiss-cpu!=1.8.0.post0,<2.0.0,>=1.8.0, which is not installed.\n",
      "aiobotocore 2.21.1 requires botocore<1.37.2,>=1.37.0, but you have botocore 1.40.54 which is incompatible.\n",
      "autogluon-multimodal 1.4.0 requires jsonschema<4.24,>=4.18, but you have jsonschema 4.25.1 which is incompatible.\n",
      "autogluon-multimodal 1.4.0 requires transformers[sentencepiece]<4.50,>=4.38.0, but you have transformers 4.56.1 which is incompatible.\n",
      "autogluon-timeseries 1.4.0 requires transformers[sentencepiece]<4.50,>=4.38.0, but you have transformers 4.56.1 which is incompatible.\n",
      "dash 2.18.1 requires Flask<3.1,>=1.0.4, but you have flask 3.1.2 which is incompatible.\n",
      "dash 2.18.1 requires Werkzeug<3.1, but you have werkzeug 3.1.3 which is incompatible.\n",
      "fastapi 0.116.1 requires starlette<0.48.0,>=0.40.0, but you have starlette 0.48.0 which is incompatible.\n",
      "flake8 7.1.2 requires pycodestyle<2.13.0,>=2.12.0, but you have pycodestyle 2.14.0 which is incompatible.\n",
      "mlflow 2.22.0 requires packaging<25, but you have packaging 25.0 which is incompatible.\n",
      "mlflow-skinny 2.22.0 requires packaging<25, but you have packaging 25.0 which is incompatible.\n",
      "sagemaker 2.245.0 requires attrs<24,>=23.1.0, but you have attrs 25.4.0 which is incompatible.\n",
      "sagemaker 2.245.0 requires importlib-metadata<7.0,>=1.4.0, but you have importlib-metadata 8.7.0 which is incompatible.\n",
      "sagemaker 2.245.0 requires packaging<25,>=23.0, but you have packaging 25.0 which is incompatible.\n",
      "sagemaker-studio-analytics-extension 0.2.2 requires sparkmagic==0.22.0, but you have sparkmagic 0.21.0 which is incompatible.\n",
      "sparkmagic 0.21.0 requires pandas<2.0.0,>=0.17.1, but you have pandas 2.3.2 which is incompatible.\n",
      "thinc 8.3.6 requires numpy<3.0.0,>=2.0.0, but you have numpy 1.26.4 which is incompatible.\u001b[0m\u001b[31m\n",
      "\u001b[0m"
     ]
    }
   ],
   "source": [
    "!pip install -r requirements.txt --quiet --force-reinstall --upgrade"
   ]
  },
  {
   "cell_type": "code",
   "execution_count": 2,
   "metadata": {},
   "outputs": [],
   "source": [
    "import logging\n",
    "import orjson\n",
    "\n",
    "from strands import Agent\n",
    "from strands.models import BedrockModel\n",
    "from rich.logging import RichHandler"
   ]
  },
  {
   "cell_type": "code",
   "execution_count": 3,
   "metadata": {},
   "outputs": [],
   "source": [
    "# Configure the root strands logger\n",
    "logging.getLogger(\"strands\").setLevel(logging.DEBUG)\n",
    "\n",
    "# Configure logging with rich (common in modern Python projects)\n",
    "logging.basicConfig(\n",
    "    level=logging.INFO,\n",
    "    datefmt=\"[%Y-%m-%d %H:%M:%S]\",\n",
    "    handlers=[\n",
    "        RichHandler(\n",
    "            rich_tracebacks=True,\n",
    "            markup=True,\n",
    "            show_time=True,\n",
    "            show_level=True,\n",
    "            show_path=True,\n",
    "        )\n",
    "    ],\n",
    ")"
   ]
  },
  {
   "cell_type": "code",
   "execution_count": 4,
   "metadata": {},
   "outputs": [],
   "source": [
    "SYSTEM_PROMPT = \"\"\"\n",
    "    당신은 리뷰 감정 분석 전문가입니다.\n",
    "    리뷰 텍스트를 분석하여 감정을 분류하고 점수를 매겨주세요.\n",
    "\n",
    "    <감정분류>\n",
    "    - positive: 긍정적 감정 (만족, 기쁨, 추천 등)\n",
    "    - negative: 부정적 감정 (불만, 실망, 비추천 등)\n",
    "    - neutral: 중립적 감정 (객관적 서술, 단순 정보 등)\n",
    "    </감정분류>\n",
    "\n",
    "    <점수범위>\n",
    "    감정 점수: -1.0 (매우 부정) ~ 1.0 (매우 긍정)\n",
    "    </점수범위>\n",
    "\n",
    "    <주의사항>\n",
    "    - 반어법, 비꼬는 표현('정말 좋네요' + 부정적 맥락)을 주의깊게 감지해주세요\n",
    "    - 복합 감정이 있는 경우 전체적인 주된 감정을 파악해주세요\n",
    "    - 한국어 완곡 표현을 고려해주세요: '나쁘지 않다'는 긍정적, '그럭저럭'은 보통 만족\n",
    "    - 도메인별 전문용어의 맥락을 파악해주세요 (예: 게임의 '어려움'은 긍정적일 수 있음)\n",
    "    - 비교 표현('~보다 나아요')의 상대적 의미를 고려해주세요\n",
    "    - 텍스트가 너무 짧거나 모호한 경우 confidence를 낮게 설정해주세요\n",
    "    </주의사항>\n",
    "\n",
    "    <출력형식>\n",
    "    결과를 JSON 형식으로 반환해주세요. 답변에 백틱이나 코드 블록 포맷(```json, ```python 등)을 붙이지 마세요. :\n",
    "    {\n",
    "    \"sentiment\": \"positive|negative|neutral\",\n",
    "    \"score\": 0.8,\n",
    "    \"confidence\": 0.9,\n",
    "    \"reason\": \"분석 근거\"\n",
    "    }\n",
    "    </출력형식>\n",
    "\"\"\""
   ]
  },
  {
   "cell_type": "code",
   "execution_count": 5,
   "metadata": {},
   "outputs": [],
   "source": [
    "# 입력 예시\n",
    "review_content = \"제품 정말 좋아요! 음질도 훌륭하고 배터리도 오래 갑니다.\""
   ]
  },
  {
   "cell_type": "code",
   "execution_count": 6,
   "metadata": {},
   "outputs": [
    {
     "name": "stdout",
     "output_type": "stream",
     "text": [
      "{\n",
      "  \"sentiment\": \"positive\",\n",
      "  \"score\": 0.8,\n",
      "  \"confidence\": 0.95,\n",
      "  \"reason\": \"명확한 긍정 표현('정말 좋아요', '훌륭하고')과 구체적인 장점 언급(음질, 배터리 지속성)으로 강한 만족감을 표현하고 있습니다.\"\n",
      "}"
     ]
    }
   ],
   "source": [
    "bedrock_model = BedrockModel(\n",
    "    model_id=\"global.anthropic.claude-sonnet-4-20250514-v1:0\",\n",
    ")\n",
    "\n",
    "sentiment_agent = Agent(\n",
    "    model=bedrock_model,\n",
    "    system_prompt=SYSTEM_PROMPT,\n",
    ")\n",
    "\n",
    "# Strands Agent 호출\n",
    "result = sentiment_agent(review_content)"
   ]
  },
  {
   "cell_type": "markdown",
   "metadata": {},
   "source": [
    "실전 Tip 💡\n",
    "- https://strandsagents.com/latest/documentation/docs/user-guide/concepts/agents/structured-output/\n",
    "\n",
    "Lab 2에서 다룹니다."
   ]
  },
  {
   "cell_type": "code",
   "execution_count": 7,
   "metadata": {},
   "outputs": [],
   "source": [
    "result_text = str(result)"
   ]
  },
  {
   "cell_type": "code",
   "execution_count": 8,
   "metadata": {},
   "outputs": [
    {
     "data": {
      "text/plain": [
       "str"
      ]
     },
     "execution_count": 8,
     "metadata": {},
     "output_type": "execute_result"
    }
   ],
   "source": [
    "type(result_text)"
   ]
  },
  {
   "cell_type": "code",
   "execution_count": 9,
   "metadata": {},
   "outputs": [
    {
     "name": "stdout",
     "output_type": "stream",
     "text": [
      "{\n",
      "  \"sentiment\": \"positive\",\n",
      "  \"score\": 0.8,\n",
      "  \"confidence\": 0.95,\n",
      "  \"reason\": \"명확한 긍정 표현('정말 좋아요', '훌륭하고')과 구체적인 장점 언급(음질, 배터리 지속성)으로 강한 만족감을 표현하고 있습니다.\"\n",
      "}\n",
      "\n"
     ]
    }
   ],
   "source": [
    "print(result_text)"
   ]
  },
  {
   "cell_type": "code",
   "execution_count": 10,
   "metadata": {},
   "outputs": [
    {
     "data": {
      "text/plain": [
       "{'sentiment': 'positive',\n",
       " 'score': 0.8,\n",
       " 'confidence': 0.95,\n",
       " 'reason': \"명확한 긍정 표현('정말 좋아요', '훌륭하고')과 구체적인 장점 언급(음질, 배터리 지속성)으로 강한 만족감을 표현하고 있습니다.\"}"
      ]
     },
     "execution_count": 10,
     "metadata": {},
     "output_type": "execute_result"
    }
   ],
   "source": [
    "orjson.loads(result_text)"
   ]
  }
 ],
 "metadata": {
  "kernelspec": {
   "display_name": "base",
   "language": "python",
   "name": "python3"
  },
  "language_info": {
   "codemirror_mode": {
    "name": "ipython",
    "version": 3
   },
   "file_extension": ".py",
   "mimetype": "text/x-python",
   "name": "python",
   "nbconvert_exporter": "python",
   "pygments_lexer": "ipython3",
   "version": "3.12.9"
  }
 },
 "nbformat": 4,
 "nbformat_minor": 2
}
